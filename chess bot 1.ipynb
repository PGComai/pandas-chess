{
 "cells": [
  {
   "cell_type": "code",
   "execution_count": 1,
   "metadata": {},
   "outputs": [],
   "source": [
    "import pandas as pd\n",
    "import numpy as np\n",
    "import matplotlib\n",
    "import matplotlib.pyplot as plt\n",
    "import random\n",
    "import time"
   ]
  },
  {
   "cell_type": "code",
   "execution_count": 2,
   "metadata": {},
   "outputs": [],
   "source": [
    "files = ['a','b','c','d','e','f','g','h']\n",
    "ranks = [1,2,3,4,5,6,7,8]\n",
    "#board = pd.read_csv(\"chess board.csv\", index_col=0)\n",
    "#board = pd.read_csv(\"chess board kingmovetest.csv\", index_col=0)\n",
    "#board = pd.read_csv(\"chess board checktest.csv\", index_col=0)\n",
    "board = pd.read_csv(\"chess board avoidchecktest.csv\", index_col=0)"
   ]
  },
  {
   "cell_type": "code",
   "execution_count": 5,
   "metadata": {},
   "outputs": [],
   "source": [
    "moveDict = {'upx':('up','x'),\n",
    "               'downx':('down','x'),\n",
    "               'leftx':('left','x'),\n",
    "               'rightx':('right','x'),\n",
    "               'upxleftx':(('up','x'),('left','x'),2),\n",
    "               'upxrightx':(('up','x'),('right','x'),2),\n",
    "               'downxleftx':(('down','x'),('left','x'),2),\n",
    "               'downxrightx':(('down','x'),('right','x'),2),\n",
    "               'up1':('up',1),\n",
    "               'down1':('down',1),\n",
    "               'left1':('left',1),\n",
    "               'right1':('right',1),\n",
    "               'up1left1':(('up',1),('left',1),2),\n",
    "               'up1right1':(('up',1),('right',1),2),\n",
    "               'down1left1':(('down',1),('left',1),2),\n",
    "               'down1right1':(('down',1),('right',1),2),\n",
    "               'up2left':(('up',2),('left',1),2),\n",
    "               'up2right':(('up',2),('right',1),2),\n",
    "               'left2up':(('left',2),('up',1),2),\n",
    "               'left2down':(('left',2),('down',1),2),\n",
    "               'right2up':(('right',2),('up',1),2),\n",
    "               'right2down':(('right',2),('down',1),2),\n",
    "               'down2left':(('down',2),('left',1),2),\n",
    "               'down2right':(('down',2),('right',1),2),\n",
    "               'up2':('up',2),\n",
    "                'down2':('down',2),\n",
    "               'WpTakeL':(('up',1),('left',1),2),\n",
    "               'WpTakeR':(('up',1),('right',1),2),\n",
    "               'BpTakeL':(('down',1),('left',1),2),\n",
    "               'BpTakeR':(('down',1),('right',1),2),\n",
    "               'castleR': ('right',2),\n",
    "               'castleL': ('left',2)}"
   ]
  },
  {
   "cell_type": "code",
   "execution_count": 6,
   "metadata": {},
   "outputs": [
    {
     "data": {
      "text/html": [
       "<div>\n",
       "<style scoped>\n",
       "    .dataframe tbody tr th:only-of-type {\n",
       "        vertical-align: middle;\n",
       "    }\n",
       "\n",
       "    .dataframe tbody tr th {\n",
       "        vertical-align: top;\n",
       "    }\n",
       "\n",
       "    .dataframe thead th {\n",
       "        text-align: right;\n",
       "    }\n",
       "</style>\n",
       "<table border=\"1\" class=\"dataframe\">\n",
       "  <thead>\n",
       "    <tr style=\"text-align: right;\">\n",
       "      <th></th>\n",
       "      <th>a</th>\n",
       "      <th>b</th>\n",
       "      <th>c</th>\n",
       "      <th>d</th>\n",
       "      <th>e</th>\n",
       "      <th>f</th>\n",
       "      <th>g</th>\n",
       "      <th>h</th>\n",
       "    </tr>\n",
       "  </thead>\n",
       "  <tbody>\n",
       "    <tr>\n",
       "      <th>8</th>\n",
       "      <td>bR</td>\n",
       "      <td>bN</td>\n",
       "      <td>bB</td>\n",
       "      <td>0</td>\n",
       "      <td>bK</td>\n",
       "      <td>bB</td>\n",
       "      <td>bN</td>\n",
       "      <td>bR</td>\n",
       "    </tr>\n",
       "    <tr>\n",
       "      <th>7</th>\n",
       "      <td>bP</td>\n",
       "      <td>bP</td>\n",
       "      <td>bP</td>\n",
       "      <td>bP</td>\n",
       "      <td>bP</td>\n",
       "      <td>bP</td>\n",
       "      <td>bP</td>\n",
       "      <td>bP</td>\n",
       "    </tr>\n",
       "    <tr>\n",
       "      <th>6</th>\n",
       "      <td>0</td>\n",
       "      <td>0</td>\n",
       "      <td>0</td>\n",
       "      <td>0</td>\n",
       "      <td>0</td>\n",
       "      <td>0</td>\n",
       "      <td>0</td>\n",
       "      <td>0</td>\n",
       "    </tr>\n",
       "    <tr>\n",
       "      <th>5</th>\n",
       "      <td>0</td>\n",
       "      <td>0</td>\n",
       "      <td>0</td>\n",
       "      <td>0</td>\n",
       "      <td>0</td>\n",
       "      <td>0</td>\n",
       "      <td>0</td>\n",
       "      <td>0</td>\n",
       "    </tr>\n",
       "    <tr>\n",
       "      <th>4</th>\n",
       "      <td>0</td>\n",
       "      <td>0</td>\n",
       "      <td>0</td>\n",
       "      <td>0</td>\n",
       "      <td>0</td>\n",
       "      <td>bQ</td>\n",
       "      <td>0</td>\n",
       "      <td>0</td>\n",
       "    </tr>\n",
       "    <tr>\n",
       "      <th>3</th>\n",
       "      <td>0</td>\n",
       "      <td>0</td>\n",
       "      <td>0</td>\n",
       "      <td>0</td>\n",
       "      <td>wK</td>\n",
       "      <td>0</td>\n",
       "      <td>0</td>\n",
       "      <td>0</td>\n",
       "    </tr>\n",
       "    <tr>\n",
       "      <th>2</th>\n",
       "      <td>wP</td>\n",
       "      <td>wP</td>\n",
       "      <td>wP</td>\n",
       "      <td>wP</td>\n",
       "      <td>wP</td>\n",
       "      <td>wP</td>\n",
       "      <td>wP</td>\n",
       "      <td>wP</td>\n",
       "    </tr>\n",
       "    <tr>\n",
       "      <th>1</th>\n",
       "      <td>wR</td>\n",
       "      <td>wN</td>\n",
       "      <td>wB</td>\n",
       "      <td>wQ</td>\n",
       "      <td>0</td>\n",
       "      <td>wB</td>\n",
       "      <td>wN</td>\n",
       "      <td>wR</td>\n",
       "    </tr>\n",
       "  </tbody>\n",
       "</table>\n",
       "</div>"
      ],
      "text/plain": [
       "    a   b   c   d   e   f   g   h\n",
       "8  bR  bN  bB   0  bK  bB  bN  bR\n",
       "7  bP  bP  bP  bP  bP  bP  bP  bP\n",
       "6   0   0   0   0   0   0   0   0\n",
       "5   0   0   0   0   0   0   0   0\n",
       "4   0   0   0   0   0  bQ   0   0\n",
       "3   0   0   0   0  wK   0   0   0\n",
       "2  wP  wP  wP  wP  wP  wP  wP  wP\n",
       "1  wR  wN  wB  wQ   0  wB  wN  wR"
      ]
     },
     "execution_count": 6,
     "metadata": {},
     "output_type": "execute_result"
    }
   ],
   "source": [
    "board"
   ]
  },
  {
   "cell_type": "code",
   "execution_count": 7,
   "metadata": {
    "scrolled": true
   },
   "outputs": [
    {
     "data": {
      "text/plain": [
       "'0'"
      ]
     },
     "execution_count": 7,
     "metadata": {},
     "output_type": "execute_result"
    }
   ],
   "source": [
    "board.at[3,'h']"
   ]
  },
  {
   "cell_type": "code",
   "execution_count": 8,
   "metadata": {},
   "outputs": [],
   "source": [
    "#emptySquares = pd.isna(board).copy()\n",
    "#emptySquares"
   ]
  },
  {
   "cell_type": "code",
   "execution_count": 9,
   "metadata": {},
   "outputs": [],
   "source": [
    "#board.at[6,'a'] = board.at[7,'a']\n",
    "#board.at[7,'a'] = None\n",
    "#board.at[3,'a']='boo'\n",
    "#board\n"
   ]
  },
  {
   "cell_type": "code",
   "execution_count": 10,
   "metadata": {},
   "outputs": [],
   "source": [
    "def recon(rsquare):\n",
    "    #print('RECON')\n",
    "    #look at a square and return the piece or False\n",
    "    if not rsquare:\n",
    "        return False\n",
    "    if rsquare == '0':\n",
    "        return False\n",
    "    #print('recon rsquare: ' + str(rsquare))\n",
    "    file = rsquare[0]\n",
    "    rank = rsquare[1]\n",
    "    square = board.at[rank,file]\n",
    "    #print('recon square: ' + str(square))\n",
    "    return square"
   ]
  },
  {
   "cell_type": "code",
   "execution_count": 11,
   "metadata": {
    "scrolled": true
   },
   "outputs": [
    {
     "data": {
      "text/plain": [
       "'wR'"
      ]
     },
     "execution_count": 11,
     "metadata": {},
     "output_type": "execute_result"
    }
   ],
   "source": [
    "recon(('a',1))"
   ]
  },
  {
   "cell_type": "code",
   "execution_count": 12,
   "metadata": {},
   "outputs": [],
   "source": [
    "def walk(square, movement):\n",
    "    #print('WALK')\n",
    "    #general movement between squares\n",
    "    if not square:\n",
    "        return False\n",
    "    file = square[0]\n",
    "    rank = square[1]\n",
    "    direction = movement[0]\n",
    "    steps = movement[1]\n",
    "    if steps == 'x':\n",
    "        steps = 1\n",
    "    #print(steps)\n",
    "    fileCom = {\"up\":1, \"down\":-1, \"left\":-1, \"right\":1}\n",
    "    global newPos\n",
    "    if direction in [\"left\", \"right\"]:\n",
    "        findex = files.index(file)\n",
    "        nindex = findex + (steps * fileCom[direction])\n",
    "        if nindex not in range(0,8):\n",
    "            return False\n",
    "        newFile = files[nindex]\n",
    "        newPos = (newFile, rank)\n",
    "    if direction in [\"up\", \"down\"]:\n",
    "        newRank = (rank + (steps * fileCom[direction]))\n",
    "        if newRank not in range(1,9):\n",
    "            return False\n",
    "        newPos = (file, newRank)\n",
    "    return newPos"
   ]
  },
  {
   "cell_type": "code",
   "execution_count": 13,
   "metadata": {},
   "outputs": [
    {
     "data": {
      "text/plain": [
       "('e', 4)"
      ]
     },
     "execution_count": 13,
     "metadata": {},
     "output_type": "execute_result"
    }
   ],
   "source": [
    "walk(('e',3), ('up', 1))"
   ]
  },
  {
   "cell_type": "code",
   "execution_count": 14,
   "metadata": {},
   "outputs": [],
   "source": [
    "def defaultMoves(square, castle=False, forTheKing=False):\n",
    "    moves = []\n",
    "    #print('DEFAULTMOVES')\n",
    "    #returns default moveset for a piece\n",
    "    file = square[0]\n",
    "    rank = square[1]\n",
    "    piece = recon(square)\n",
    "    if piece == '0':\n",
    "        return False\n",
    "    color = piece[0]\n",
    "    #print(color)\n",
    "    pieceType = piece[1]\n",
    "    #print(pieceType)\n",
    "    if pieceType == 'P':\n",
    "        #check pawn team and loc\n",
    "        if color == 'w':\n",
    "            moves = ['up1','WpTakeL','WpTakeR']\n",
    "            if rank == 2:\n",
    "                #pawn can move up 1 or 2\n",
    "                moves = ['up1','up2','WpTakeL','WpTakeR']\n",
    "        if color == 'b':\n",
    "            moves = ['down1','BpTakeL','BpTakeR']\n",
    "            if rank == 7:\n",
    "                #pawn can move down 1 or 2\n",
    "                moves = ['down1','down2','BpTakeL','BpTakeR']\n",
    "    if pieceType == 'R':\n",
    "        moves = ['upx','downx','leftx','rightx']\n",
    "    if pieceType == 'N':\n",
    "        moves = ['up2left','up2right','left2up','left2down','right2up','right2down','down2left','down2right']\n",
    "    if pieceType == 'B':\n",
    "        moves = ['upxleftx','upxrightx','downxleftx','downxrightx']\n",
    "    if pieceType == 'Q':\n",
    "        moves = ['upx','downx','leftx','rightx','upxleftx','upxrightx','downxleftx','downxrightx']\n",
    "    if pieceType == 'K':\n",
    "        if not castle:\n",
    "            if forTheKing:\n",
    "                moves = findKingMoves(square)\n",
    "            if not forTheKing:\n",
    "                moves = ['up1','down1','left1','right1','up1left1','up1right1','down1left1','down1right1']\n",
    "        if castle:\n",
    "            left = canCastle(color, 'l')\n",
    "            right = canCastle(color,'r')\n",
    "            if forTheKing:\n",
    "                moves = findKingMoves(square)\n",
    "            if not forTheKing:\n",
    "                moves = ['up1','down1','left1','right1','up1left1','up1right1','down1left1','down1right1']\n",
    "            if left and right:\n",
    "                moves.extend(['castleL', 'castleR'])\n",
    "            elif left:\n",
    "                moves.extend(['castleL'])\n",
    "            elif right:\n",
    "                moves.extend(['castleR'])\n",
    "    return moves"
   ]
  },
  {
   "cell_type": "code",
   "execution_count": 15,
   "metadata": {
    "scrolled": true
   },
   "outputs": [
    {
     "ename": "NameError",
     "evalue": "name 'findKingMoves' is not defined",
     "output_type": "error",
     "traceback": [
      "\u001b[0;31m---------------------------------------------------------------------------\u001b[0m",
      "\u001b[0;31mNameError\u001b[0m                                 Traceback (most recent call last)",
      "\u001b[0;32m<ipython-input-15-b5a2781bde0f>\u001b[0m in \u001b[0;36m<module>\u001b[0;34m\u001b[0m\n\u001b[0;32m----> 1\u001b[0;31m \u001b[0mdefaultMoves\u001b[0m\u001b[0;34m(\u001b[0m\u001b[0;34m(\u001b[0m\u001b[0;34m'e'\u001b[0m\u001b[0;34m,\u001b[0m\u001b[0;36m3\u001b[0m\u001b[0;34m)\u001b[0m\u001b[0;34m,\u001b[0m \u001b[0mforTheKing\u001b[0m\u001b[0;34m=\u001b[0m\u001b[0;32mTrue\u001b[0m\u001b[0;34m)\u001b[0m\u001b[0;34m\u001b[0m\u001b[0;34m\u001b[0m\u001b[0m\n\u001b[0m",
      "\u001b[0;32m<ipython-input-14-dd364a3475b6>\u001b[0m in \u001b[0;36mdefaultMoves\u001b[0;34m(square, castle, forTheKing)\u001b[0m\n\u001b[1;32m     35\u001b[0m         \u001b[0;32mif\u001b[0m \u001b[0;32mnot\u001b[0m \u001b[0mcastle\u001b[0m\u001b[0;34m:\u001b[0m\u001b[0;34m\u001b[0m\u001b[0;34m\u001b[0m\u001b[0m\n\u001b[1;32m     36\u001b[0m             \u001b[0;32mif\u001b[0m \u001b[0mforTheKing\u001b[0m\u001b[0;34m:\u001b[0m\u001b[0;34m\u001b[0m\u001b[0;34m\u001b[0m\u001b[0m\n\u001b[0;32m---> 37\u001b[0;31m                 \u001b[0mmoves\u001b[0m \u001b[0;34m=\u001b[0m \u001b[0mfindKingMoves\u001b[0m\u001b[0;34m(\u001b[0m\u001b[0msquare\u001b[0m\u001b[0;34m)\u001b[0m\u001b[0;34m\u001b[0m\u001b[0;34m\u001b[0m\u001b[0m\n\u001b[0m\u001b[1;32m     38\u001b[0m             \u001b[0;32mif\u001b[0m \u001b[0;32mnot\u001b[0m \u001b[0mforTheKing\u001b[0m\u001b[0;34m:\u001b[0m\u001b[0;34m\u001b[0m\u001b[0;34m\u001b[0m\u001b[0m\n\u001b[1;32m     39\u001b[0m                 \u001b[0mmoves\u001b[0m \u001b[0;34m=\u001b[0m \u001b[0;34m[\u001b[0m\u001b[0;34m'up1'\u001b[0m\u001b[0;34m,\u001b[0m\u001b[0;34m'down1'\u001b[0m\u001b[0;34m,\u001b[0m\u001b[0;34m'left1'\u001b[0m\u001b[0;34m,\u001b[0m\u001b[0;34m'right1'\u001b[0m\u001b[0;34m,\u001b[0m\u001b[0;34m'up1left1'\u001b[0m\u001b[0;34m,\u001b[0m\u001b[0;34m'up1right1'\u001b[0m\u001b[0;34m,\u001b[0m\u001b[0;34m'down1left1'\u001b[0m\u001b[0;34m,\u001b[0m\u001b[0;34m'down1right1'\u001b[0m\u001b[0;34m]\u001b[0m\u001b[0;34m\u001b[0m\u001b[0;34m\u001b[0m\u001b[0m\n",
      "\u001b[0;31mNameError\u001b[0m: name 'findKingMoves' is not defined"
     ]
    }
   ],
   "source": [
    "defaultMoves(('e',3), forTheKing=True)"
   ]
  },
  {
   "cell_type": "code",
   "execution_count": 16,
   "metadata": {},
   "outputs": [],
   "source": [
    "def assessSquare(square, newSquare, origin):\n",
    "    #print('ASSESSSQUARE')\n",
    "    check = recon(newSquare)\n",
    "    if not check:\n",
    "        #out of bounds\n",
    "        #print('oob')\n",
    "        return 'oob'\n",
    "    elif check is '0':\n",
    "        #then the square is empty\n",
    "        #print('empty')\n",
    "        return 'empty'\n",
    "    else:\n",
    "        #the square is either friend or foe\n",
    "        #print(recon(newSquare))\n",
    "        #print(recon(square))\n",
    "        if recon(newSquare)[0] is not recon(origin)[0]:\n",
    "            #print('foe')\n",
    "            return 'foe'\n",
    "        else:\n",
    "            #print('friend')\n",
    "            return 'friend'"
   ]
  },
  {
   "cell_type": "code",
   "execution_count": 17,
   "metadata": {},
   "outputs": [
    {
     "data": {
      "text/plain": [
       "'empty'"
      ]
     },
     "execution_count": 17,
     "metadata": {},
     "output_type": "execute_result"
    }
   ],
   "source": [
    "assessSquare(('g',1),('d',8), ('b',8))"
   ]
  },
  {
   "cell_type": "code",
   "execution_count": 18,
   "metadata": {},
   "outputs": [],
   "source": [
    "def xCheck(x, move, square, imaginary=False):\n",
    "    #print('XCHECK')\n",
    "    origin = square\n",
    "    #look through each move str name, make moves and report if possible\n",
    "    if 'x' in move:\n",
    "            \n",
    "        #print(move + ': x')\n",
    "        #need to test further moves in this direction until blocked\n",
    "        blocked = False\n",
    "        xSquares = []\n",
    "        while not blocked:\n",
    "            #print('not blocked')\n",
    "            if len(x) == 3:\n",
    "                #move is a two-step\n",
    "                move1 = x[0]\n",
    "                #print(move1)\n",
    "                move2 = x[1]\n",
    "                #print(move2)\n",
    "                newSquare = walk(square, move1)\n",
    "                #print(newSquare)\n",
    "                newSquare = walk(newSquare, move2)\n",
    "                #print(newSquare)\n",
    "            else:\n",
    "                #move is a one-step\n",
    "                newSquare = walk(square, x)\n",
    "                #print(newSquare)\n",
    "\n",
    "            result = assessSquare(square, newSquare, origin)\n",
    "            #print(result)\n",
    "            if result == 'oob':\n",
    "                blocked = True\n",
    "                newSquare = False\n",
    "            elif result == 'empty':\n",
    "                blocked = False\n",
    "                xSquares.append(newSquare)\n",
    "                square = newSquare\n",
    "            elif result == 'friend':\n",
    "                blocked = True\n",
    "                newSquare = False\n",
    "            else:\n",
    "                blocked = True\n",
    "                xSquares.append(newSquare)\n",
    "                square = newSquare\n",
    "        newSquare = xSquares\n",
    "        if len(newSquare) == 0:\n",
    "            newSquare = False\n",
    "            \n",
    "    if 'x' not in move:\n",
    "        #print(move + ': no x')\n",
    "        #move only specified number of moves\n",
    "        \n",
    "        #only for castle\n",
    "        if 'castle' in move:\n",
    "            if 'L' in move:\n",
    "                team = 'l'\n",
    "            if'R' in move:\n",
    "                team = 'r'\n",
    "                \n",
    "        #non-castle\n",
    "        if len(x) == 3:\n",
    "            #print(x)\n",
    "            #move is a two-step\n",
    "            #this is where the horses move\n",
    "            move1 = x[0]\n",
    "            #print(move1)\n",
    "            move2 = x[1]\n",
    "            #print(move2)\n",
    "            newSquare = walk(square, move1)\n",
    "            newSquare = walk(newSquare, move2)\n",
    "        else:\n",
    "            #move is a one-step\n",
    "            newSquare = walk(square, x)\n",
    "        result = assessSquare(square, newSquare, origin)\n",
    "        if result == 'oob':\n",
    "            newSquare = False\n",
    "        if result == 'friend':\n",
    "            newSquare = False\n",
    "        if 'P' in recon(square):\n",
    "            if not imaginary:\n",
    "                if newSquare:\n",
    "                    if newSquare[0] is not square[0]:\n",
    "                        if recon(newSquare) is '0':\n",
    "                            newSquare = False\n",
    "                if newSquare:\n",
    "                    if newSquare[0] is square[0]:\n",
    "                        if recon(newSquare) is not '0':\n",
    "                            newSquare = False\n",
    "            if imaginary:\n",
    "                if newSquare:\n",
    "                    if newSquare[0] is square[0]:\n",
    "                        if recon(newSquare) is not '0':\n",
    "                            newSquare = False\n",
    "                if newSquare:\n",
    "                    if newSquare[0] is not square[0]:\n",
    "                        if recon(newSquare) is '0':\n",
    "                            newSquare = newSquare\n",
    "    return newSquare"
   ]
  },
  {
   "cell_type": "code",
   "execution_count": 19,
   "metadata": {},
   "outputs": [
    {
     "data": {
      "text/plain": [
       "('d', 4)"
      ]
     },
     "execution_count": 19,
     "metadata": {},
     "output_type": "execute_result"
    }
   ],
   "source": [
    "xCheck(((('down', 1), ('left', 1), 2)), 'BpTakeL', ('e',5), imaginary=True)"
   ]
  },
  {
   "cell_type": "code",
   "execution_count": 20,
   "metadata": {},
   "outputs": [],
   "source": [
    "def moveTester(square, castle=False, forTheKing=False, imaginary=False):\n",
    "    #returns legal moves\n",
    "    #print('MOVETESTER')\n",
    "    legalmoves = {}\n",
    "    if recon(square) == '0':\n",
    "        return False\n",
    "    moves = defaultMoves(square, castle=castle, forTheKing=forTheKing)\n",
    "    #print(moves)\n",
    "    for move in moves:\n",
    "        x = moveDict[move]\n",
    "        #print(move)\n",
    "        #print(x)\n",
    "        newSquare = xCheck(x, move, square, imaginary)\n",
    "        legalmoves[move] = newSquare\n",
    "\n",
    "    #returns a dict of moves and their resulting squares (or False)\n",
    "    return legalmoves\n"
   ]
  },
  {
   "cell_type": "code",
   "execution_count": 21,
   "metadata": {},
   "outputs": [
    {
     "data": {
      "text/html": [
       "<div>\n",
       "<style scoped>\n",
       "    .dataframe tbody tr th:only-of-type {\n",
       "        vertical-align: middle;\n",
       "    }\n",
       "\n",
       "    .dataframe tbody tr th {\n",
       "        vertical-align: top;\n",
       "    }\n",
       "\n",
       "    .dataframe thead th {\n",
       "        text-align: right;\n",
       "    }\n",
       "</style>\n",
       "<table border=\"1\" class=\"dataframe\">\n",
       "  <thead>\n",
       "    <tr style=\"text-align: right;\">\n",
       "      <th></th>\n",
       "      <th>a</th>\n",
       "      <th>b</th>\n",
       "      <th>c</th>\n",
       "      <th>d</th>\n",
       "      <th>e</th>\n",
       "      <th>f</th>\n",
       "      <th>g</th>\n",
       "      <th>h</th>\n",
       "    </tr>\n",
       "  </thead>\n",
       "  <tbody>\n",
       "    <tr>\n",
       "      <th>8</th>\n",
       "      <td>bR</td>\n",
       "      <td>bN</td>\n",
       "      <td>bB</td>\n",
       "      <td>0</td>\n",
       "      <td>bK</td>\n",
       "      <td>bB</td>\n",
       "      <td>bN</td>\n",
       "      <td>bR</td>\n",
       "    </tr>\n",
       "    <tr>\n",
       "      <th>7</th>\n",
       "      <td>bP</td>\n",
       "      <td>bP</td>\n",
       "      <td>bP</td>\n",
       "      <td>bP</td>\n",
       "      <td>bP</td>\n",
       "      <td>bP</td>\n",
       "      <td>bP</td>\n",
       "      <td>bP</td>\n",
       "    </tr>\n",
       "    <tr>\n",
       "      <th>6</th>\n",
       "      <td>0</td>\n",
       "      <td>0</td>\n",
       "      <td>0</td>\n",
       "      <td>0</td>\n",
       "      <td>0</td>\n",
       "      <td>0</td>\n",
       "      <td>0</td>\n",
       "      <td>0</td>\n",
       "    </tr>\n",
       "    <tr>\n",
       "      <th>5</th>\n",
       "      <td>0</td>\n",
       "      <td>0</td>\n",
       "      <td>0</td>\n",
       "      <td>0</td>\n",
       "      <td>0</td>\n",
       "      <td>0</td>\n",
       "      <td>0</td>\n",
       "      <td>0</td>\n",
       "    </tr>\n",
       "    <tr>\n",
       "      <th>4</th>\n",
       "      <td>0</td>\n",
       "      <td>0</td>\n",
       "      <td>0</td>\n",
       "      <td>0</td>\n",
       "      <td>0</td>\n",
       "      <td>bQ</td>\n",
       "      <td>0</td>\n",
       "      <td>0</td>\n",
       "    </tr>\n",
       "    <tr>\n",
       "      <th>3</th>\n",
       "      <td>0</td>\n",
       "      <td>0</td>\n",
       "      <td>0</td>\n",
       "      <td>0</td>\n",
       "      <td>wK</td>\n",
       "      <td>0</td>\n",
       "      <td>0</td>\n",
       "      <td>0</td>\n",
       "    </tr>\n",
       "    <tr>\n",
       "      <th>2</th>\n",
       "      <td>wP</td>\n",
       "      <td>wP</td>\n",
       "      <td>wP</td>\n",
       "      <td>wP</td>\n",
       "      <td>wP</td>\n",
       "      <td>wP</td>\n",
       "      <td>wP</td>\n",
       "      <td>wP</td>\n",
       "    </tr>\n",
       "    <tr>\n",
       "      <th>1</th>\n",
       "      <td>wR</td>\n",
       "      <td>wN</td>\n",
       "      <td>wB</td>\n",
       "      <td>wQ</td>\n",
       "      <td>0</td>\n",
       "      <td>wB</td>\n",
       "      <td>wN</td>\n",
       "      <td>wR</td>\n",
       "    </tr>\n",
       "  </tbody>\n",
       "</table>\n",
       "</div>"
      ],
      "text/plain": [
       "    a   b   c   d   e   f   g   h\n",
       "8  bR  bN  bB   0  bK  bB  bN  bR\n",
       "7  bP  bP  bP  bP  bP  bP  bP  bP\n",
       "6   0   0   0   0   0   0   0   0\n",
       "5   0   0   0   0   0   0   0   0\n",
       "4   0   0   0   0   0  bQ   0   0\n",
       "3   0   0   0   0  wK   0   0   0\n",
       "2  wP  wP  wP  wP  wP  wP  wP  wP\n",
       "1  wR  wN  wB  wQ   0  wB  wN  wR"
      ]
     },
     "execution_count": 21,
     "metadata": {},
     "output_type": "execute_result"
    }
   ],
   "source": [
    "board"
   ]
  },
  {
   "cell_type": "code",
   "execution_count": 22,
   "metadata": {},
   "outputs": [
    {
     "data": {
      "text/plain": [
       "False"
      ]
     },
     "execution_count": 22,
     "metadata": {},
     "output_type": "execute_result"
    }
   ],
   "source": [
    "moveTester(('e',5), imaginary=True)"
   ]
  },
  {
   "cell_type": "code",
   "execution_count": 23,
   "metadata": {},
   "outputs": [],
   "source": [
    "def moveCounter(square, castle=False, forTheKing=False, imaginary=False):\n",
    "    #print('MOVECOUNTER')\n",
    "    #returns count of legal moves\n",
    "    count = 0\n",
    "    movesReturned = moveTester(square, castle=castle, forTheKing=forTheKing, imaginary=imaginary)\n",
    "    #print(movesReturned)\n",
    "    if movesReturned:\n",
    "        for move in movesReturned.items():\n",
    "            #print(move[1])\n",
    "            if move[1]:\n",
    "                #print(move)\n",
    "                count += 1\n",
    "                if len(move) > 2:\n",
    "                    count += (len(move) - 1)\n",
    "    return count"
   ]
  },
  {
   "cell_type": "code",
   "execution_count": 24,
   "metadata": {},
   "outputs": [
    {
     "data": {
      "text/plain": [
       "0"
      ]
     },
     "execution_count": 24,
     "metadata": {},
     "output_type": "execute_result"
    }
   ],
   "source": [
    "moveCounter(('e',5), imaginary=True)"
   ]
  },
  {
   "cell_type": "code",
   "execution_count": 29,
   "metadata": {},
   "outputs": [],
   "source": [
    "def myTeam(color, castle=False, imaginary=False):\n",
    "    global board\n",
    "    #print('MYTEAM')\n",
    "    #team is w or b (str)\n",
    "    myPieces = {}\n",
    "    for rank in ranks:\n",
    "        for file in files:\n",
    "            piece = board.at[rank,file]\n",
    "            #print(piece)\n",
    "            if color in piece:\n",
    "                movenum = moveCounter((file,rank), castle, imaginary)\n",
    "                myPieces[piece + str(file) + str(rank)] = ((file, rank), movenum)\n",
    "    return myPieces"
   ]
  },
  {
   "cell_type": "code",
   "execution_count": 30,
   "metadata": {},
   "outputs": [
    {
     "data": {
      "text/plain": [
       "{'wRa1': (('a', 1), 0),\n",
       " 'wNb1': (('b', 1), 2),\n",
       " 'wBc1': (('c', 1), 0),\n",
       " 'wQd1': (('d', 1), 1),\n",
       " 'wBf1': (('f', 1), 0),\n",
       " 'wNg1': (('g', 1), 2),\n",
       " 'wRh1': (('h', 1), 0),\n",
       " 'wPa2': (('a', 2), 2),\n",
       " 'wPb2': (('b', 2), 2),\n",
       " 'wPc2': (('c', 2), 2),\n",
       " 'wPd2': (('d', 2), 2),\n",
       " 'wPe2': (('e', 2), 1),\n",
       " 'wPf2': (('f', 2), 1),\n",
       " 'wPg2': (('g', 2), 2),\n",
       " 'wPh2': (('h', 2), 2),\n",
       " 'wKe3': (('e', 3), 5)}"
      ]
     },
     "execution_count": 30,
     "metadata": {},
     "output_type": "execute_result"
    }
   ],
   "source": [
    "myTeam('w')"
   ]
  },
  {
   "cell_type": "code",
   "execution_count": 31,
   "metadata": {},
   "outputs": [],
   "source": [
    "def myMoves(teamdict):\n",
    "    #print('MYMOVES')\n",
    "    moves = {}\n",
    "    for piece in teamdict:\n",
    "        x = teamdict[piece]\n",
    "        if x[1] is not 0:\n",
    "            moves[piece] = x\n",
    "    return moves"
   ]
  },
  {
   "cell_type": "code",
   "execution_count": 32,
   "metadata": {},
   "outputs": [
    {
     "ename": "TypeError",
     "evalue": "'in <string>' requires string as left operand, not DataFrame",
     "output_type": "error",
     "traceback": [
      "\u001b[0;31m---------------------------------------------------------------------------\u001b[0m",
      "\u001b[0;31mTypeError\u001b[0m                                 Traceback (most recent call last)",
      "\u001b[0;32m<ipython-input-32-fc7a5d6f9dce>\u001b[0m in \u001b[0;36m<module>\u001b[0;34m\u001b[0m\n\u001b[0;32m----> 1\u001b[0;31m \u001b[0mteam\u001b[0m \u001b[0;34m=\u001b[0m \u001b[0mmyTeam\u001b[0m\u001b[0;34m(\u001b[0m\u001b[0mboard\u001b[0m\u001b[0;34m,\u001b[0m\u001b[0;34m'w'\u001b[0m\u001b[0;34m)\u001b[0m\u001b[0;34m\u001b[0m\u001b[0;34m\u001b[0m\u001b[0m\n\u001b[0m\u001b[1;32m      2\u001b[0m \u001b[0;34m\u001b[0m\u001b[0m\n\u001b[1;32m      3\u001b[0m \u001b[0mmyMoves\u001b[0m\u001b[0;34m(\u001b[0m\u001b[0mteam\u001b[0m\u001b[0;34m)\u001b[0m\u001b[0;34m\u001b[0m\u001b[0;34m\u001b[0m\u001b[0m\n",
      "\u001b[0;32m<ipython-input-29-6e4cdfba4d6f>\u001b[0m in \u001b[0;36mmyTeam\u001b[0;34m(myteam, castle, imaginary)\u001b[0m\n\u001b[1;32m      8\u001b[0m             \u001b[0mpiece\u001b[0m \u001b[0;34m=\u001b[0m \u001b[0mboard\u001b[0m\u001b[0;34m.\u001b[0m\u001b[0mat\u001b[0m\u001b[0;34m[\u001b[0m\u001b[0mrank\u001b[0m\u001b[0;34m,\u001b[0m\u001b[0mfile\u001b[0m\u001b[0;34m]\u001b[0m\u001b[0;34m\u001b[0m\u001b[0;34m\u001b[0m\u001b[0m\n\u001b[1;32m      9\u001b[0m             \u001b[0;31m#print(piece)\u001b[0m\u001b[0;34m\u001b[0m\u001b[0;34m\u001b[0m\u001b[0;34m\u001b[0m\u001b[0m\n\u001b[0;32m---> 10\u001b[0;31m             \u001b[0;32mif\u001b[0m \u001b[0mmyteam\u001b[0m \u001b[0;32min\u001b[0m \u001b[0mpiece\u001b[0m\u001b[0;34m:\u001b[0m\u001b[0;34m\u001b[0m\u001b[0;34m\u001b[0m\u001b[0m\n\u001b[0m\u001b[1;32m     11\u001b[0m                 \u001b[0mmovenum\u001b[0m \u001b[0;34m=\u001b[0m \u001b[0mmoveCounter\u001b[0m\u001b[0;34m(\u001b[0m\u001b[0;34m(\u001b[0m\u001b[0mfile\u001b[0m\u001b[0;34m,\u001b[0m\u001b[0mrank\u001b[0m\u001b[0;34m)\u001b[0m\u001b[0;34m,\u001b[0m \u001b[0mcastle\u001b[0m\u001b[0;34m,\u001b[0m \u001b[0mimaginary\u001b[0m\u001b[0;34m)\u001b[0m\u001b[0;34m\u001b[0m\u001b[0;34m\u001b[0m\u001b[0m\n\u001b[1;32m     12\u001b[0m                 \u001b[0mmyPieces\u001b[0m\u001b[0;34m[\u001b[0m\u001b[0mpiece\u001b[0m \u001b[0;34m+\u001b[0m \u001b[0mstr\u001b[0m\u001b[0;34m(\u001b[0m\u001b[0mfile\u001b[0m\u001b[0;34m)\u001b[0m \u001b[0;34m+\u001b[0m \u001b[0mstr\u001b[0m\u001b[0;34m(\u001b[0m\u001b[0mrank\u001b[0m\u001b[0;34m)\u001b[0m\u001b[0;34m]\u001b[0m \u001b[0;34m=\u001b[0m \u001b[0;34m(\u001b[0m\u001b[0;34m(\u001b[0m\u001b[0mfile\u001b[0m\u001b[0;34m,\u001b[0m \u001b[0mrank\u001b[0m\u001b[0;34m)\u001b[0m\u001b[0;34m,\u001b[0m \u001b[0mmovenum\u001b[0m\u001b[0;34m)\u001b[0m\u001b[0;34m\u001b[0m\u001b[0;34m\u001b[0m\u001b[0m\n",
      "\u001b[0;31mTypeError\u001b[0m: 'in <string>' requires string as left operand, not DataFrame"
     ]
    }
   ],
   "source": [
    "team = myTeam(board,'w')\n",
    "\n",
    "myMoves(team)"
   ]
  },
  {
   "cell_type": "code",
   "execution_count": 213,
   "metadata": {},
   "outputs": [
    {
     "data": {
      "text/plain": [
       "{'wRa1': (('a', 1), 1),\n",
       " 'wNd1': (('d', 1), 3),\n",
       " 'wBf1': (('f', 1), 1),\n",
       " 'wRh1': (('h', 1), 2),\n",
       " 'wPa2': (('a', 2), 2),\n",
       " 'wBb2': (('b', 2), 3),\n",
       " 'wPc2': (('c', 2), 2),\n",
       " 'wPd2': (('d', 2), 2),\n",
       " 'wQe2': (('e', 2), 5),\n",
       " 'wPg3': (('g', 3), 0),\n",
       " 'wNh3': (('h', 3), 3),\n",
       " 'wPe4': (('e', 4), 2),\n",
       " 'wPf4': (('f', 4), 0),\n",
       " 'wKg4': (('g', 4), 4),\n",
       " 'wPh4': (('h', 4), 0),\n",
       " 'wPb5': (('b', 5), 0)}"
      ]
     },
     "execution_count": 213,
     "metadata": {},
     "output_type": "execute_result"
    }
   ],
   "source": [
    "team"
   ]
  },
  {
   "cell_type": "code",
   "execution_count": 244,
   "metadata": {},
   "outputs": [],
   "source": [
    "def pickRandomMove(team, castle=False, specific=False):\n",
    "    canmoves = []\n",
    "    x = myMoves(myTeam(team))\n",
    "    if len(x) == 0:\n",
    "        return 'done', 'done'\n",
    "    #print(x)\n",
    "    while len(canmoves) == 0:\n",
    "        if specific:\n",
    "            pick = specific\n",
    "        if not specific:\n",
    "            pick = random.choice(list(x))\n",
    "        if pick[1] == 'K':\n",
    "            forTheKing=True\n",
    "        if pick[1] is not 'K':\n",
    "            forTheKing=False\n",
    "        #print('pick: ' + str(pick))\n",
    "        square = x[pick][0]\n",
    "        moves = moveTester(square, castle, forTheKing=forTheKing)\n",
    "        #print(moves)\n",
    "        for y in list(moves):\n",
    "            if moves[y]:\n",
    "                canmoves.append(y)\n",
    "    #print(canmoves)    \n",
    "    movepick = random.choice(canmoves)\n",
    "    return pick, movepick"
   ]
  },
  {
   "cell_type": "code",
   "execution_count": 246,
   "metadata": {},
   "outputs": [
    {
     "data": {
      "text/plain": [
       "('wNb1', 'up2left')"
      ]
     },
     "execution_count": 246,
     "metadata": {},
     "output_type": "execute_result"
    }
   ],
   "source": [
    "pickRandomMove('w')\n"
   ]
  },
  {
   "cell_type": "code",
   "execution_count": 115,
   "metadata": {},
   "outputs": [],
   "source": [
    "def dangerDetector(square, team, forTheKing=False, imaginary=False):\n",
    "    attacks = []\n",
    "    enemy = False\n",
    "    if team == 'w':\n",
    "        enemy = 'b'\n",
    "    if team == 'b':\n",
    "        enemy = 'w'\n",
    "    if not enemy:\n",
    "        return False\n",
    "    for rank in ranks:\n",
    "        for file in files:\n",
    "            if enemy in recon((file,rank)):\n",
    "                #print('enemy: ' + str(recon((file,rank))) + str(file) + str(rank))\n",
    "                moves = moveTester((file,rank), forTheKing=forTheKing, imaginary=imaginary)\n",
    "                #print(moves)\n",
    "                for move in moves.values():\n",
    "                    if move:\n",
    "                        #print('square: ' + str(square))\n",
    "                        #print('move: ' + str(move))\n",
    "                        if str(square) in str(move):\n",
    "                            loc = (file,rank)\n",
    "                            attacks.append(str(recon(loc)) + str(file) + str(rank))\n",
    "    if len(attacks) == 0:\n",
    "        return False\n",
    "    return attacks\n",
    "            "
   ]
  },
  {
   "cell_type": "code",
   "execution_count": 274,
   "metadata": {},
   "outputs": [
    {
     "data": {
      "text/plain": [
       "False"
      ]
     },
     "execution_count": 274,
     "metadata": {},
     "output_type": "execute_result"
    }
   ],
   "source": [
    "dangerDetector(('e',7),'b')"
   ]
  },
  {
   "cell_type": "code",
   "execution_count": 32,
   "metadata": {},
   "outputs": [],
   "source": [
    "#def escapeCounter"
   ]
  },
  {
   "cell_type": "code",
   "execution_count": 33,
   "metadata": {},
   "outputs": [],
   "source": [
    "def canCastle(team, side):\n",
    "    #check for danger or teammate along king path\n",
    "    dangers = 0\n",
    "    if team == 'w':\n",
    "        if side == 'l':\n",
    "            #king is at ('e',1), rook is at ('a',1)\n",
    "            #king goes to ('c',1) and left rook goes to ('d',1)\n",
    "            #e1 thru c1 must not be in danger\n",
    "            path = [('e',1),('d',1),('c',1)]\n",
    "            \n",
    "        if side == 'r':\n",
    "            #king is at ('e',1), rook is at ('h',1)\n",
    "            #king goes to ('g',1) and right rook goes to ('f',1)\n",
    "            #e1 thru g1 must not be in danger\n",
    "            path = [('e',1),('f',1),('g',1)]\n",
    "            \n",
    "    if team == 'b':\n",
    "        if side == 'l':\n",
    "            #king is at ('e',8), rook is at ('a',8)\n",
    "            #king goes to ('c',8) and left rook goes to ('d',8)\n",
    "            #e8 thru c8 must not be in danger\n",
    "            path = [('e',8),('d',8),('c',8)]\n",
    "            \n",
    "        if side == 'r':\n",
    "            #king is at ('e',8), rook is at ('h',8)\n",
    "            #king goes to ('g',8) and rook goes to ('f',8)\n",
    "            #e8 thru g8 must not be in danger\n",
    "            path = [('e',8),('f',8),('g',8)]\n",
    "    for spot in path:\n",
    "        piece = recon(spot)\n",
    "        if 'K' not in piece:\n",
    "            if '0' not in piece:\n",
    "                dangers += 1\n",
    "            if '0' in piece:\n",
    "                x = dangerDetector((spot), team)\n",
    "                if x:\n",
    "                    dangers += len(x)\n",
    "        #print(dangers)\n",
    "    if dangers == 0:\n",
    "        return True\n",
    "    else:\n",
    "        return False\n",
    "        \n",
    "            "
   ]
  },
  {
   "cell_type": "code",
   "execution_count": 34,
   "metadata": {},
   "outputs": [
    {
     "data": {
      "text/plain": [
       "False"
      ]
     },
     "execution_count": 34,
     "metadata": {},
     "output_type": "execute_result"
    }
   ],
   "source": [
    "canCastle('w', 'r')"
   ]
  },
  {
   "cell_type": "code",
   "execution_count": 35,
   "metadata": {},
   "outputs": [],
   "source": [
    "def castle(team, side):\n",
    "    global board\n",
    "    if team == 'w':\n",
    "        if side == 'l':\n",
    "            #king is at ('e',1), rook is at ('a',1)\n",
    "            #king goes to ('c',1) and left rook goes to ('d',1)\n",
    "            kingfrom = ('e',1)\n",
    "            kingto = ('c',1)\n",
    "            rookfrom = ('a',1)\n",
    "            rookto = ('d',1)\n",
    "            ('white queen side castle')\n",
    "            \n",
    "        if side == 'r':\n",
    "            #king is at ('e',1), rook is at ('h',1)\n",
    "            #king goes to ('g',1) and right rook goes to ('f',1)\n",
    "            kingfrom = ('e',1)\n",
    "            kingto = ('g',1)\n",
    "            rookfrom = ('h',1)\n",
    "            rookto = ('f',1)\n",
    "            ('white king side castle')\n",
    "            \n",
    "    if team == 'b':\n",
    "        if side == 'l':\n",
    "            #king is at ('e',8), rook is at ('a',8)\n",
    "            #king goes to ('c',8) and left rook goes to ('d',8)\n",
    "            kingfrom = ('e',8)\n",
    "            kingto = ('c',8)\n",
    "            rookfrom = ('a',8)\n",
    "            rookto = ('d',8)\n",
    "            ('black queen side castle')\n",
    "            \n",
    "        if side == 'r':\n",
    "            #king is at ('e',8), rook is at ('h',8)\n",
    "            #king goes to ('g',8) and rook goes to ('f',8)\n",
    "            kingfrom = ('e',8)\n",
    "            kingto = ('g',8)\n",
    "            rookfrom = ('h',8)\n",
    "            rookto = ('f',8)\n",
    "            print('black king side castle')\n",
    "    \n",
    "    ### move king ###\n",
    "    board.at[kingto[1],kingto[0]] = board.at[kingfrom[1],kingfrom[0]]\n",
    "    board.at[kingfrom[1],kingfrom[0]] = '0'\n",
    "    #################\n",
    "    ### move rook ###\n",
    "    board.at[rookto[1],rookto[0]] = board.at[rookfrom[1],rookfrom[0]]\n",
    "    board.at[rookfrom[1],rookfrom[0]] = '0'\n",
    "    #################\n",
    "    return board"
   ]
  },
  {
   "cell_type": "code",
   "execution_count": 121,
   "metadata": {},
   "outputs": [
    {
     "data": {
      "text/plain": [
       "(('up', 1), ('left', 1), 2)"
      ]
     },
     "execution_count": 121,
     "metadata": {},
     "output_type": "execute_result"
    }
   ],
   "source": [
    "moveDict['up1left1']"
   ]
  },
  {
   "cell_type": "code",
   "execution_count": 152,
   "metadata": {},
   "outputs": [],
   "source": [
    "#https://stackoverflow.com/questions/627435/how-to-remove-an-element-from-a-list-by-index\n",
    "#https://stackoverflow.com/questions/522563/accessing-the-index-in-for-loops\n",
    "#https://stackoverflow.com/questions/11303225/how-to-remove-multiple-indexes-from-a-list-at-the-same-time\n",
    "\n",
    "def findKingMoves(square):\n",
    "    indanger = {}\n",
    "    moves = ['up1','down1','left1','right1','up1left1','up1right1','down1left1','down1right1']\n",
    "    indexCount = []\n",
    "    for idx, move in enumerate(moves):\n",
    "        y = moveDict[move]\n",
    "        ### prepare the start and end positions ###\n",
    "        if len(y) == 3:\n",
    "            newSquare = walk(square, y[0])\n",
    "            newSquare = walk(newSquare, y[1])\n",
    "        else:\n",
    "            newSquare = walk(square, y)\n",
    "        #print(move)\n",
    "        #print(square)\n",
    "        #newSquare = walk(square, moveDict[move])\n",
    "        #print(newSquare)\n",
    "        indanger = dangerDetector(newSquare, recon(square)[0], forTheKing=False, imaginary=True)\n",
    "        #print(indanger)\n",
    "        if indanger:\n",
    "            indexCount.append(idx)\n",
    "    for index in sorted(indexCount, reverse=True):\n",
    "        del moves[index]\n",
    "    if len(moves) == 0:\n",
    "        moves = 'checkmated'\n",
    "    return moves"
   ]
  },
  {
   "cell_type": "code",
   "execution_count": 141,
   "metadata": {},
   "outputs": [
    {
     "name": "stdout",
     "output_type": "stream",
     "text": [
      "up1\n",
      "('e', 3)\n",
      "('e', 4)\n",
      "['bQf4']\n",
      "down1\n",
      "('e', 3)\n",
      "('e', 2)\n",
      "False\n",
      "left1\n",
      "('e', 3)\n",
      "('d', 3)\n",
      "False\n",
      "right1\n",
      "('e', 3)\n",
      "('f', 3)\n",
      "['bQf4']\n",
      "up1left1\n",
      "('e', 3)\n",
      "('d', 4)\n",
      "['bQf4']\n",
      "up1right1\n",
      "('e', 3)\n",
      "('f', 4)\n",
      "False\n",
      "down1left1\n",
      "('e', 3)\n",
      "('d', 2)\n",
      "['bQf4']\n",
      "down1right1\n",
      "('e', 3)\n",
      "('f', 2)\n",
      "['bQf4']\n"
     ]
    },
    {
     "data": {
      "text/plain": [
       "['down1', 'left1', 'up1right1']"
      ]
     },
     "execution_count": 141,
     "metadata": {},
     "output_type": "execute_result"
    }
   ],
   "source": [
    "findKingMoves(('e',3))"
   ]
  },
  {
   "cell_type": "code",
   "execution_count": 38,
   "metadata": {},
   "outputs": [],
   "source": [
    "def promote(team, square):\n",
    "    global board\n",
    "    options = ['Q', 'R', 'B', 'N']\n",
    "    promotion = random.choice(options)\n",
    "    newPiece = str(team) + promotion\n",
    "    board.at[square[1],square[0]] = newPiece\n",
    "    print(str(team) + 'P' + str(square[0]) + str(square[1]) + ' promoted to ' + promotion)\n",
    "    #print(newPiece)"
   ]
  },
  {
   "cell_type": "code",
   "execution_count": 39,
   "metadata": {},
   "outputs": [
    {
     "name": "stdout",
     "output_type": "stream",
     "text": [
      "wPh8 promoted to Q\n"
     ]
    }
   ],
   "source": [
    "promote('w', ('h',8))"
   ]
  },
  {
   "cell_type": "code",
   "execution_count": 267,
   "metadata": {},
   "outputs": [],
   "source": [
    "def play(steps=False, resetBoard=False):\n",
    "    global turn\n",
    "    global board\n",
    "    global wKmoved\n",
    "    global bKmoved\n",
    "    global wRmoved\n",
    "    global bRmoved\n",
    "    wKmoved = False\n",
    "    bKmoved = False\n",
    "    wRmoved = {'l':False,'r':False}\n",
    "    bRmoved = {'l':False,'r':False}\n",
    "    if not steps:\n",
    "        board = pd.read_csv(\"chess board.csv\", index_col=0)\n",
    "    if resetBoard:\n",
    "        board = pd.read_csv(\"chess board.csv\", index_col=0)\n",
    "        turn = 'w'\n",
    "    count = 0\n",
    "    over = False\n",
    "    if steps:\n",
    "        step = 0\n",
    "    moveMade = False\n",
    "    while True: \n",
    "        ### look at team ###\n",
    "        team = myTeam(turn)\n",
    "        \n",
    "        for piece in team.keys():\n",
    "            #print(piece)\n",
    "            if 'K' in piece:\n",
    "                #print('found king')\n",
    "                check = dangerDetector(team[piece][0], turn)\n",
    "                #print(check)\n",
    "                if check:\n",
    "                    ### the king is currently in check and must move (or we must put the other king in check)\n",
    "                    ### or the check must be otherwise blocked TODO\n",
    "                    print(turn + ' king is in check')\n",
    "                    piece, move = pickRandomMove(turn, specific=piece)\n",
    "                    moveMade = True\n",
    "                    if piece is 'done':\n",
    "                        ### checkmate!\n",
    "                        print(str(piece[0]) + ' king is in checkmate')\n",
    "                        if turn is 'b':\n",
    "                            print('white wins')\n",
    "                        if turn is 'w':\n",
    "                            print('black wins')\n",
    "                        over = True\n",
    "                if not check:\n",
    "                    break\n",
    "        if over:\n",
    "            break\n",
    "                    \n",
    "        ### pick a random piece and move ###\n",
    "        if not moveMade:\n",
    "            piece, move = pickRandomMove(turn)\n",
    "        \n",
    "        if 'P' in piece:\n",
    "            pawn = True\n",
    "        else:\n",
    "            pawn = False\n",
    "        \n",
    "        if piece == 'done':\n",
    "            print(piece + ' after ' + str(count) + ' turns')\n",
    "            break\n",
    "        \n",
    "        \n",
    "        ### non castle moves ###\n",
    "        if 'castle' not in move:\n",
    "            y = moveDict[move]\n",
    "            ### prepare the start and end positions ###\n",
    "            square = team[piece][0]\n",
    "            start = square\n",
    "            if len(y) == 3:\n",
    "                newSpace = walk(square, y[0])\n",
    "                newSpace = walk(newSpace, y[1])\n",
    "            else:\n",
    "                newSpace = walk(square, y)\n",
    "            end = newSpace\n",
    "\n",
    "            ### detects if 'take' needs to be said instead of 'to' ###\n",
    "            if assessSquare(start, end, start) == 'foe':\n",
    "                totake = ' takes '\n",
    "                endpiece = str(recon(end))\n",
    "            else:\n",
    "                totake = ' to '\n",
    "                endpiece = ''\n",
    "                \n",
    "            ### this chunk keeps track of stuff necessary for castling ###\n",
    "            if recon(start) == 'wK':\n",
    "                wKmoved = True\n",
    "            if recon(start) == 'bK':\n",
    "                bKmoved = True\n",
    "            if recon(start) == 'wR':\n",
    "                if start == ('a',1):\n",
    "                    wRmoved['l'] = True\n",
    "                if start == ('h',1):\n",
    "                    wRmoved['r'] = True\n",
    "            if recon(start) == 'bR':\n",
    "                if start == ('a',8):\n",
    "                    bRmoved['l'] = True\n",
    "                if start == ('h',8):\n",
    "                    bRmoved['r'] = True\n",
    "                    \n",
    "            ### this moves a piece ###\n",
    "            #print(recon(start))\n",
    "            #print(start)\n",
    "            #print(end)\n",
    "            print(str(recon(start)) + str(start[0]) + str(start[1]) + str(totake) + str(endpiece) + str(end[0]) + str(end[1]))\n",
    "\n",
    "            board.at[newSpace[1], newSpace[0]] = board.at[square[1], square[0]]\n",
    "            board.at[square[1], square[0]] = '0'\n",
    "            \n",
    "            if pawn:\n",
    "                if turn == 'w':\n",
    "                    if newSpace[1] == 8:\n",
    "                        promote(turn, newSpace)\n",
    "                if turn == 'b':\n",
    "                    if newSpace[1] == 1:\n",
    "                        promote(turn, newSpace)\n",
    "        \n",
    "        ### castle ###\n",
    "        \n",
    "        if 'castle' in move:\n",
    "            if 'L' in move:\n",
    "                side = 'l'\n",
    "            if 'R' in move:\n",
    "                side = 'r'\n",
    "            castle(turn, side)\n",
    "            if team is 'w':\n",
    "                wRmoved[side] = True\n",
    "                wKmoved = True\n",
    "            if team is 'b':\n",
    "                BRmoved[side] = True\n",
    "                BKmoved = True\n",
    "                \n",
    "        ### keeps track of whose turn it is ###\n",
    "        q = 0\n",
    "        if turn == 'b':\n",
    "            turn = 'w'\n",
    "            q = 1\n",
    "        if turn == 'w' and q == 0:\n",
    "            turn = 'b'\n",
    "        #######################################\n",
    "        \n",
    "        #print(board)\n",
    "        count += 1\n",
    "        if steps:\n",
    "            step += 1\n",
    "            if step == steps:\n",
    "                return 'paused after ' +  str(step) + ' steps'\n",
    "        #time.sleep(0.5)\n",
    "        "
   ]
  },
  {
   "cell_type": "code",
   "execution_count": 33,
   "metadata": {},
   "outputs": [
    {
     "ename": "NameError",
     "evalue": "name 'play' is not defined",
     "output_type": "error",
     "traceback": [
      "\u001b[0;31m---------------------------------------------------------------------------\u001b[0m",
      "\u001b[0;31mNameError\u001b[0m                                 Traceback (most recent call last)",
      "\u001b[0;32m<ipython-input-33-5405f6b7b8a1>\u001b[0m in \u001b[0;36m<module>\u001b[0;34m\u001b[0m\n\u001b[0;32m----> 1\u001b[0;31m \u001b[0mplay\u001b[0m\u001b[0;34m(\u001b[0m\u001b[0;36m10000\u001b[0m\u001b[0;34m,\u001b[0m \u001b[0mresetBoard\u001b[0m\u001b[0;34m=\u001b[0m\u001b[0;32mTrue\u001b[0m\u001b[0;34m)\u001b[0m\u001b[0;34m\u001b[0m\u001b[0;34m\u001b[0m\u001b[0m\n\u001b[0m",
      "\u001b[0;31mNameError\u001b[0m: name 'play' is not defined"
     ]
    }
   ],
   "source": [
    "play(10000, resetBoard=True)"
   ]
  },
  {
   "cell_type": "code",
   "execution_count": 270,
   "metadata": {},
   "outputs": [
    {
     "data": {
      "text/html": [
       "<div>\n",
       "<style scoped>\n",
       "    .dataframe tbody tr th:only-of-type {\n",
       "        vertical-align: middle;\n",
       "    }\n",
       "\n",
       "    .dataframe tbody tr th {\n",
       "        vertical-align: top;\n",
       "    }\n",
       "\n",
       "    .dataframe thead th {\n",
       "        text-align: right;\n",
       "    }\n",
       "</style>\n",
       "<table border=\"1\" class=\"dataframe\">\n",
       "  <thead>\n",
       "    <tr style=\"text-align: right;\">\n",
       "      <th></th>\n",
       "      <th>a</th>\n",
       "      <th>b</th>\n",
       "      <th>c</th>\n",
       "      <th>d</th>\n",
       "      <th>e</th>\n",
       "      <th>f</th>\n",
       "      <th>g</th>\n",
       "      <th>h</th>\n",
       "    </tr>\n",
       "  </thead>\n",
       "  <tbody>\n",
       "    <tr>\n",
       "      <th>8</th>\n",
       "      <td>bR</td>\n",
       "      <td>0</td>\n",
       "      <td>bB</td>\n",
       "      <td>0</td>\n",
       "      <td>0</td>\n",
       "      <td>0</td>\n",
       "      <td>0</td>\n",
       "      <td>bR</td>\n",
       "    </tr>\n",
       "    <tr>\n",
       "      <th>7</th>\n",
       "      <td>0</td>\n",
       "      <td>bP</td>\n",
       "      <td>0</td>\n",
       "      <td>bQ</td>\n",
       "      <td>bK</td>\n",
       "      <td>0</td>\n",
       "      <td>bP</td>\n",
       "      <td>0</td>\n",
       "    </tr>\n",
       "    <tr>\n",
       "      <th>6</th>\n",
       "      <td>bP</td>\n",
       "      <td>0</td>\n",
       "      <td>0</td>\n",
       "      <td>bB</td>\n",
       "      <td>0</td>\n",
       "      <td>bP</td>\n",
       "      <td>0</td>\n",
       "      <td>0</td>\n",
       "    </tr>\n",
       "    <tr>\n",
       "      <th>5</th>\n",
       "      <td>wP</td>\n",
       "      <td>0</td>\n",
       "      <td>bP</td>\n",
       "      <td>wP</td>\n",
       "      <td>bP</td>\n",
       "      <td>0</td>\n",
       "      <td>0</td>\n",
       "      <td>bP</td>\n",
       "    </tr>\n",
       "    <tr>\n",
       "      <th>4</th>\n",
       "      <td>0</td>\n",
       "      <td>wP</td>\n",
       "      <td>wP</td>\n",
       "      <td>wP</td>\n",
       "      <td>0</td>\n",
       "      <td>wN</td>\n",
       "      <td>wP</td>\n",
       "      <td>wP</td>\n",
       "    </tr>\n",
       "    <tr>\n",
       "      <th>3</th>\n",
       "      <td>wN</td>\n",
       "      <td>0</td>\n",
       "      <td>0</td>\n",
       "      <td>0</td>\n",
       "      <td>0</td>\n",
       "      <td>0</td>\n",
       "      <td>wP</td>\n",
       "      <td>wB</td>\n",
       "    </tr>\n",
       "    <tr>\n",
       "      <th>2</th>\n",
       "      <td>0</td>\n",
       "      <td>wB</td>\n",
       "      <td>0</td>\n",
       "      <td>0</td>\n",
       "      <td>wQ</td>\n",
       "      <td>0</td>\n",
       "      <td>0</td>\n",
       "      <td>0</td>\n",
       "    </tr>\n",
       "    <tr>\n",
       "      <th>1</th>\n",
       "      <td>0</td>\n",
       "      <td>0</td>\n",
       "      <td>wR</td>\n",
       "      <td>0</td>\n",
       "      <td>0</td>\n",
       "      <td>wK</td>\n",
       "      <td>0</td>\n",
       "      <td>wR</td>\n",
       "    </tr>\n",
       "  </tbody>\n",
       "</table>\n",
       "</div>"
      ],
      "text/plain": [
       "    a   b   c   d   e   f   g   h\n",
       "8  bR   0  bB   0   0   0   0  bR\n",
       "7   0  bP   0  bQ  bK   0  bP   0\n",
       "6  bP   0   0  bB   0  bP   0   0\n",
       "5  wP   0  bP  wP  bP   0   0  bP\n",
       "4   0  wP  wP  wP   0  wN  wP  wP\n",
       "3  wN   0   0   0   0   0  wP  wB\n",
       "2   0  wB   0   0  wQ   0   0   0\n",
       "1   0   0  wR   0   0  wK   0  wR"
      ]
     },
     "execution_count": 270,
     "metadata": {},
     "output_type": "execute_result"
    }
   ],
   "source": [
    "board"
   ]
  },
  {
   "cell_type": "code",
   "execution_count": 271,
   "metadata": {},
   "outputs": [
    {
     "data": {
      "text/plain": [
       "{'wRa1': (('a', 1), 1),\n",
       " 'wNd1': (('d', 1), 3),\n",
       " 'wBf1': (('f', 1), 1),\n",
       " 'wRh1': (('h', 1), 2),\n",
       " 'wPa2': (('a', 2), 2),\n",
       " 'wBb2': (('b', 2), 3),\n",
       " 'wPc2': (('c', 2), 2),\n",
       " 'wPd2': (('d', 2), 2),\n",
       " 'wQe2': (('e', 2), 5),\n",
       " 'wPg3': (('g', 3), 0),\n",
       " 'wNh3': (('h', 3), 3),\n",
       " 'wPe4': (('e', 4), 2),\n",
       " 'wPf4': (('f', 4), 0),\n",
       " 'wKg4': (('g', 4), 4),\n",
       " 'wPh4': (('h', 4), 0),\n",
       " 'wPb5': (('b', 5), 0)}"
      ]
     },
     "execution_count": 271,
     "metadata": {},
     "output_type": "execute_result"
    }
   ],
   "source": [
    "team"
   ]
  },
  {
   "cell_type": "code",
   "execution_count": null,
   "metadata": {},
   "outputs": [],
   "source": [
    "#track how often things occur on each square"
   ]
  }
 ],
 "metadata": {
  "kernelspec": {
   "display_name": "Python 3 (ipykernel)",
   "language": "python",
   "name": "python3"
  },
  "language_info": {
   "codemirror_mode": {
    "name": "ipython",
    "version": 3
   },
   "file_extension": ".py",
   "mimetype": "text/x-python",
   "name": "python",
   "nbconvert_exporter": "python",
   "pygments_lexer": "ipython3",
   "version": "3.9.12"
  }
 },
 "nbformat": 4,
 "nbformat_minor": 4
}
