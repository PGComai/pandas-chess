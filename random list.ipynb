{
 "cells": [
  {
   "cell_type": "code",
   "execution_count": 2,
   "metadata": {},
   "outputs": [
    {
     "name": "stdout",
     "output_type": "stream",
     "text": [
      "1: 62.857%, 2: 27.08%, 3: 10.063%  \r"
     ]
    }
   ],
   "source": [
    "import random\n",
    "import time\n",
    "import pandas as pd\n",
    "\n",
    "c1 = 1\n",
    "c2 = 1\n",
    "c3 = 1\n",
    "count = 0\n",
    "\n",
    "percents = []\n",
    "\n",
    "stuff = [1,2,3]\n",
    "\n",
    "while count < 1000000:\n",
    "    count += 1\n",
    "    next = random.choice(stuff)\n",
    "    stuff.append(next)\n",
    "    #print(stuff)\n",
    "    if next == 1:\n",
    "        c1 += 1\n",
    "    elif next == 2:\n",
    "        c2 += 1\n",
    "    else:\n",
    "        c3 += 1\n",
    "    t = (c1+c2+c3)/100\n",
    "    digit = round(3 + (1/count))\n",
    "    x1 = round(c1/t, digit)\n",
    "    x2 = round(c2/t, digit)\n",
    "    x3 = round(c3/t, digit)\n",
    "    print('1: {}%, 2: {}%, 3: {}% '.format(x1,x2,x3), end='\\r')\n",
    "    percents.append((x1, x2, x3))"
   ]
  },
  {
   "cell_type": "code",
   "execution_count": 3,
   "metadata": {},
   "outputs": [
    {
     "data": {
      "text/plain": [
       "1000000"
      ]
     },
     "execution_count": 3,
     "metadata": {},
     "output_type": "execute_result"
    }
   ],
   "source": [
    "len(percents)"
   ]
  },
  {
   "cell_type": "code",
   "execution_count": 32,
   "metadata": {},
   "outputs": [
    {
     "data": {
      "text/plain": [
       "10.4"
      ]
     },
     "execution_count": 32,
     "metadata": {},
     "output_type": "execute_result"
    }
   ],
   "source": []
  },
  {
   "cell_type": "code",
   "execution_count": null,
   "metadata": {},
   "outputs": [],
   "source": []
  }
 ],
 "metadata": {
  "kernelspec": {
   "display_name": "Python 3",
   "language": "python",
   "name": "python3"
  },
  "language_info": {
   "codemirror_mode": {
    "name": "ipython",
    "version": 3
   },
   "file_extension": ".py",
   "mimetype": "text/x-python",
   "name": "python",
   "nbconvert_exporter": "python",
   "pygments_lexer": "ipython3",
   "version": "3.7.6"
  }
 },
 "nbformat": 4,
 "nbformat_minor": 5
}
